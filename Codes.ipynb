{
 "cells": [
  {
   "cell_type": "code",
   "execution_count": 5,
   "id": "96a5fa6d",
   "metadata": {},
   "outputs": [
    {
     "name": "stderr",
     "output_type": "stream",
     "text": [
      "/var/folders/cf/cj1ld8d54x93wq419bj43slc0000gn/T/ipykernel_90282/791957425.py:5: DtypeWarning: Columns (16) have mixed types. Specify dtype option on import or set low_memory=False.\n",
      "  data = pd.read_csv('/Users/sudhanshugarg/Desktop/Santa clara University/Fall 2024/Dashboards/Project/Deliverables/Data.csv')\n"
     ]
    },
    {
     "data": {
      "text/plain": [
       "Index(['Record ID', 'Agency Code', 'Agency Name', 'Agency Type', 'City',\n",
       "       'State', 'Year', 'Month', 'Incident', 'Crime Type', 'Crime Solved',\n",
       "       'Victim Sex', 'Victim Age', 'Victim Race', 'Victim Ethnicity',\n",
       "       'Perpetrator Sex', 'Perpetrator Age', 'Perpetrator Race',\n",
       "       'Perpetrator Ethnicity', 'Relationship', 'Weapon', 'Victim Count',\n",
       "       'Perpetrator Count', 'Record Source'],\n",
       "      dtype='object')"
      ]
     },
     "execution_count": 5,
     "metadata": {},
     "output_type": "execute_result"
    }
   ],
   "source": [
    "import pandas as pd\n",
    "import numpy as np\n",
    "\n",
    "# Load the dataset\n",
    "data = pd.read_csv('/Users/sudhanshugarg/Desktop/Santa clara University/Fall 2024/Dashboards/Project/Deliverables/Data.csv')\n",
    "\n",
    "data.columns"
   ]
  },
  {
   "cell_type": "code",
   "execution_count": 6,
   "id": "06dca7ed",
   "metadata": {},
   "outputs": [
    {
     "data": {
      "text/plain": [
       "638454"
      ]
     },
     "execution_count": 6,
     "metadata": {},
     "output_type": "execute_result"
    }
   ],
   "source": [
    "len(data)"
   ]
  },
  {
   "cell_type": "code",
   "execution_count": 7,
   "id": "3e8b5e28",
   "metadata": {},
   "outputs": [
    {
     "data": {
      "text/html": [
       "<div>\n",
       "<style scoped>\n",
       "    .dataframe tbody tr th:only-of-type {\n",
       "        vertical-align: middle;\n",
       "    }\n",
       "\n",
       "    .dataframe tbody tr th {\n",
       "        vertical-align: top;\n",
       "    }\n",
       "\n",
       "    .dataframe thead th {\n",
       "        text-align: right;\n",
       "    }\n",
       "</style>\n",
       "<table border=\"1\" class=\"dataframe\">\n",
       "  <thead>\n",
       "    <tr style=\"text-align: right;\">\n",
       "      <th></th>\n",
       "      <th>Record ID</th>\n",
       "      <th>Agency Code</th>\n",
       "      <th>Agency Name</th>\n",
       "      <th>Agency Type</th>\n",
       "      <th>City</th>\n",
       "      <th>State</th>\n",
       "      <th>Year</th>\n",
       "      <th>Month</th>\n",
       "      <th>Incident</th>\n",
       "      <th>Crime Type</th>\n",
       "      <th>...</th>\n",
       "      <th>Victim Ethnicity</th>\n",
       "      <th>Perpetrator Sex</th>\n",
       "      <th>Perpetrator Age</th>\n",
       "      <th>Perpetrator Race</th>\n",
       "      <th>Perpetrator Ethnicity</th>\n",
       "      <th>Relationship</th>\n",
       "      <th>Weapon</th>\n",
       "      <th>Victim Count</th>\n",
       "      <th>Perpetrator Count</th>\n",
       "      <th>Record Source</th>\n",
       "    </tr>\n",
       "  </thead>\n",
       "  <tbody>\n",
       "    <tr>\n",
       "      <th>0</th>\n",
       "      <td>1</td>\n",
       "      <td>AK00101</td>\n",
       "      <td>Anchorage</td>\n",
       "      <td>Municipal Police</td>\n",
       "      <td>Anchorage</td>\n",
       "      <td>Alaska</td>\n",
       "      <td>1980</td>\n",
       "      <td>January</td>\n",
       "      <td>1</td>\n",
       "      <td>Murder or Manslaughter</td>\n",
       "      <td>...</td>\n",
       "      <td>Unknown</td>\n",
       "      <td>Male</td>\n",
       "      <td>15</td>\n",
       "      <td>Native American/Alaska Native</td>\n",
       "      <td>Unknown</td>\n",
       "      <td>Acquaintance</td>\n",
       "      <td>Blunt Object</td>\n",
       "      <td>0</td>\n",
       "      <td>0</td>\n",
       "      <td>FBI</td>\n",
       "    </tr>\n",
       "    <tr>\n",
       "      <th>1</th>\n",
       "      <td>2</td>\n",
       "      <td>AK00101</td>\n",
       "      <td>Anchorage</td>\n",
       "      <td>Municipal Police</td>\n",
       "      <td>Anchorage</td>\n",
       "      <td>Alaska</td>\n",
       "      <td>1980</td>\n",
       "      <td>March</td>\n",
       "      <td>1</td>\n",
       "      <td>Murder or Manslaughter</td>\n",
       "      <td>...</td>\n",
       "      <td>Unknown</td>\n",
       "      <td>Male</td>\n",
       "      <td>42</td>\n",
       "      <td>White</td>\n",
       "      <td>Unknown</td>\n",
       "      <td>Acquaintance</td>\n",
       "      <td>Strangulation</td>\n",
       "      <td>0</td>\n",
       "      <td>0</td>\n",
       "      <td>FBI</td>\n",
       "    </tr>\n",
       "    <tr>\n",
       "      <th>2</th>\n",
       "      <td>3</td>\n",
       "      <td>AK00101</td>\n",
       "      <td>Anchorage</td>\n",
       "      <td>Municipal Police</td>\n",
       "      <td>Anchorage</td>\n",
       "      <td>Alaska</td>\n",
       "      <td>1980</td>\n",
       "      <td>March</td>\n",
       "      <td>2</td>\n",
       "      <td>Murder or Manslaughter</td>\n",
       "      <td>...</td>\n",
       "      <td>Unknown</td>\n",
       "      <td>Unknown</td>\n",
       "      <td>0</td>\n",
       "      <td>Unknown</td>\n",
       "      <td>Unknown</td>\n",
       "      <td>Unknown</td>\n",
       "      <td>Unknown</td>\n",
       "      <td>0</td>\n",
       "      <td>0</td>\n",
       "      <td>FBI</td>\n",
       "    </tr>\n",
       "    <tr>\n",
       "      <th>3</th>\n",
       "      <td>4</td>\n",
       "      <td>AK00101</td>\n",
       "      <td>Anchorage</td>\n",
       "      <td>Municipal Police</td>\n",
       "      <td>Anchorage</td>\n",
       "      <td>Alaska</td>\n",
       "      <td>1980</td>\n",
       "      <td>April</td>\n",
       "      <td>1</td>\n",
       "      <td>Murder or Manslaughter</td>\n",
       "      <td>...</td>\n",
       "      <td>Unknown</td>\n",
       "      <td>Male</td>\n",
       "      <td>42</td>\n",
       "      <td>White</td>\n",
       "      <td>Unknown</td>\n",
       "      <td>Acquaintance</td>\n",
       "      <td>Strangulation</td>\n",
       "      <td>0</td>\n",
       "      <td>0</td>\n",
       "      <td>FBI</td>\n",
       "    </tr>\n",
       "    <tr>\n",
       "      <th>4</th>\n",
       "      <td>5</td>\n",
       "      <td>AK00101</td>\n",
       "      <td>Anchorage</td>\n",
       "      <td>Municipal Police</td>\n",
       "      <td>Anchorage</td>\n",
       "      <td>Alaska</td>\n",
       "      <td>1980</td>\n",
       "      <td>April</td>\n",
       "      <td>2</td>\n",
       "      <td>Murder or Manslaughter</td>\n",
       "      <td>...</td>\n",
       "      <td>Unknown</td>\n",
       "      <td>Unknown</td>\n",
       "      <td>0</td>\n",
       "      <td>Unknown</td>\n",
       "      <td>Unknown</td>\n",
       "      <td>Unknown</td>\n",
       "      <td>Unknown</td>\n",
       "      <td>0</td>\n",
       "      <td>1</td>\n",
       "      <td>FBI</td>\n",
       "    </tr>\n",
       "  </tbody>\n",
       "</table>\n",
       "<p>5 rows × 24 columns</p>\n",
       "</div>"
      ],
      "text/plain": [
       "   Record ID Agency Code Agency Name       Agency Type       City   State  \\\n",
       "0          1     AK00101   Anchorage  Municipal Police  Anchorage  Alaska   \n",
       "1          2     AK00101   Anchorage  Municipal Police  Anchorage  Alaska   \n",
       "2          3     AK00101   Anchorage  Municipal Police  Anchorage  Alaska   \n",
       "3          4     AK00101   Anchorage  Municipal Police  Anchorage  Alaska   \n",
       "4          5     AK00101   Anchorage  Municipal Police  Anchorage  Alaska   \n",
       "\n",
       "   Year    Month  Incident              Crime Type  ... Victim Ethnicity  \\\n",
       "0  1980  January         1  Murder or Manslaughter  ...          Unknown   \n",
       "1  1980    March         1  Murder or Manslaughter  ...          Unknown   \n",
       "2  1980    March         2  Murder or Manslaughter  ...          Unknown   \n",
       "3  1980    April         1  Murder or Manslaughter  ...          Unknown   \n",
       "4  1980    April         2  Murder or Manslaughter  ...          Unknown   \n",
       "\n",
       "  Perpetrator Sex  Perpetrator Age               Perpetrator Race  \\\n",
       "0            Male               15  Native American/Alaska Native   \n",
       "1            Male               42                          White   \n",
       "2         Unknown                0                        Unknown   \n",
       "3            Male               42                          White   \n",
       "4         Unknown                0                        Unknown   \n",
       "\n",
       "  Perpetrator Ethnicity  Relationship         Weapon Victim Count  \\\n",
       "0               Unknown  Acquaintance   Blunt Object            0   \n",
       "1               Unknown  Acquaintance  Strangulation            0   \n",
       "2               Unknown       Unknown        Unknown            0   \n",
       "3               Unknown  Acquaintance  Strangulation            0   \n",
       "4               Unknown       Unknown        Unknown            0   \n",
       "\n",
       "  Perpetrator Count Record Source  \n",
       "0                 0           FBI  \n",
       "1                 0           FBI  \n",
       "2                 0           FBI  \n",
       "3                 0           FBI  \n",
       "4                 1           FBI  \n",
       "\n",
       "[5 rows x 24 columns]"
      ]
     },
     "execution_count": 7,
     "metadata": {},
     "output_type": "execute_result"
    }
   ],
   "source": [
    "data.head()"
   ]
  },
  {
   "cell_type": "code",
   "execution_count": 8,
   "id": "aa3be878",
   "metadata": {
    "scrolled": true
   },
   "outputs": [
    {
     "name": "stdout",
     "output_type": "stream",
     "text": [
      "<class 'pandas.core.frame.DataFrame'>\n",
      "RangeIndex: 638454 entries, 0 to 638453\n",
      "Data columns (total 24 columns):\n",
      " #   Column                 Non-Null Count   Dtype \n",
      "---  ------                 --------------   ----- \n",
      " 0   Record ID              638454 non-null  int64 \n",
      " 1   Agency Code            638454 non-null  object\n",
      " 2   Agency Name            638454 non-null  object\n",
      " 3   Agency Type            638454 non-null  object\n",
      " 4   City                   638454 non-null  object\n",
      " 5   State                  638454 non-null  object\n",
      " 6   Year                   638454 non-null  int64 \n",
      " 7   Month                  638454 non-null  object\n",
      " 8   Incident               638454 non-null  int64 \n",
      " 9   Crime Type             638454 non-null  object\n",
      " 10  Crime Solved           638454 non-null  object\n",
      " 11  Victim Sex             638454 non-null  object\n",
      " 12  Victim Age             638454 non-null  int64 \n",
      " 13  Victim Race            638454 non-null  object\n",
      " 14  Victim Ethnicity       638454 non-null  object\n",
      " 15  Perpetrator Sex        638454 non-null  object\n",
      " 16  Perpetrator Age        638454 non-null  object\n",
      " 17  Perpetrator Race       638454 non-null  object\n",
      " 18  Perpetrator Ethnicity  638454 non-null  object\n",
      " 19  Relationship           638454 non-null  object\n",
      " 20  Weapon                 638454 non-null  object\n",
      " 21  Victim Count           638454 non-null  int64 \n",
      " 22  Perpetrator Count      638454 non-null  int64 \n",
      " 23  Record Source          638454 non-null  object\n",
      "dtypes: int64(6), object(18)\n",
      "memory usage: 116.9+ MB\n"
     ]
    }
   ],
   "source": [
    "data.info()"
   ]
  },
  {
   "cell_type": "code",
   "execution_count": 9,
   "id": "58433b3a",
   "metadata": {
    "scrolled": true
   },
   "outputs": [
    {
     "data": {
      "text/plain": [
       "Record ID                0\n",
       "Agency Code              0\n",
       "Agency Name              0\n",
       "Agency Type              0\n",
       "City                     0\n",
       "State                    0\n",
       "Year                     0\n",
       "Month                    0\n",
       "Incident                 0\n",
       "Crime Type               0\n",
       "Crime Solved             0\n",
       "Victim Sex               0\n",
       "Victim Age               0\n",
       "Victim Race              0\n",
       "Victim Ethnicity         0\n",
       "Perpetrator Sex          0\n",
       "Perpetrator Age          0\n",
       "Perpetrator Race         0\n",
       "Perpetrator Ethnicity    0\n",
       "Relationship             0\n",
       "Weapon                   0\n",
       "Victim Count             0\n",
       "Perpetrator Count        0\n",
       "Record Source            0\n",
       "dtype: int64"
      ]
     },
     "execution_count": 9,
     "metadata": {},
     "output_type": "execute_result"
    }
   ],
   "source": [
    "data.isna().sum()"
   ]
  },
  {
   "cell_type": "code",
   "execution_count": 10,
   "id": "96ac2287",
   "metadata": {},
   "outputs": [],
   "source": [
    "data.replace('Unknown', np.nan, inplace=True)"
   ]
  },
  {
   "cell_type": "code",
   "execution_count": 11,
   "id": "5d313692",
   "metadata": {},
   "outputs": [
    {
     "data": {
      "text/plain": [
       "Record ID                     0\n",
       "Agency Code                   0\n",
       "Agency Name                  47\n",
       "Agency Type                   0\n",
       "City                          0\n",
       "State                         0\n",
       "Year                          0\n",
       "Month                         0\n",
       "Incident                      0\n",
       "Crime Type                    0\n",
       "Crime Solved                  0\n",
       "Victim Sex                  984\n",
       "Victim Age                    0\n",
       "Victim Race                6676\n",
       "Victim Ethnicity         368303\n",
       "Perpetrator Sex          190365\n",
       "Perpetrator Age               0\n",
       "Perpetrator Race         196047\n",
       "Perpetrator Ethnicity    446410\n",
       "Relationship             273013\n",
       "Weapon                    33192\n",
       "Victim Count                  0\n",
       "Perpetrator Count             0\n",
       "Record Source                 0\n",
       "dtype: int64"
      ]
     },
     "execution_count": 11,
     "metadata": {},
     "output_type": "execute_result"
    }
   ],
   "source": [
    "data.isna().sum()"
   ]
  },
  {
   "cell_type": "code",
   "execution_count": 12,
   "id": "04c2c2df",
   "metadata": {},
   "outputs": [],
   "source": [
    "data.dropna(subset=['Agency Name', 'Victim Race', 'Victim Sex', 'Weapon'],inplace=True)\n",
    "\n",
    "data.drop(columns=['Victim Ethnicity', 'Perpetrator Sex', 'Perpetrator Race', 'Perpetrator Ethnicity'],inplace=True)"
   ]
  },
  {
   "cell_type": "code",
   "execution_count": 13,
   "id": "89d20ddb",
   "metadata": {},
   "outputs": [
    {
     "data": {
      "text/plain": [
       "599679"
      ]
     },
     "execution_count": 13,
     "metadata": {},
     "output_type": "execute_result"
    }
   ],
   "source": [
    "len(data)"
   ]
  },
  {
   "cell_type": "code",
   "execution_count": 14,
   "id": "5a5cfb5c",
   "metadata": {},
   "outputs": [
    {
     "data": {
      "text/plain": [
       "Index(['Record ID', 'Agency Code', 'Agency Name', 'Agency Type', 'City',\n",
       "       'State', 'Year', 'Month', 'Incident', 'Crime Type', 'Crime Solved',\n",
       "       'Victim Sex', 'Victim Age', 'Victim Race', 'Perpetrator Age',\n",
       "       'Relationship', 'Weapon', 'Victim Count', 'Perpetrator Count',\n",
       "       'Record Source'],\n",
       "      dtype='object')"
      ]
     },
     "execution_count": 14,
     "metadata": {},
     "output_type": "execute_result"
    }
   ],
   "source": [
    "data.columns"
   ]
  },
  {
   "cell_type": "code",
   "execution_count": 15,
   "id": "3530fd1f",
   "metadata": {
    "scrolled": true
   },
   "outputs": [
    {
     "data": {
      "text/plain": [
       "20"
      ]
     },
     "execution_count": 15,
     "metadata": {},
     "output_type": "execute_result"
    }
   ],
   "source": [
    "len(data.columns)"
   ]
  },
  {
   "cell_type": "code",
   "execution_count": 16,
   "id": "8295b0b5",
   "metadata": {},
   "outputs": [
    {
     "data": {
      "text/plain": [
       "Record ID                 0\n",
       "Agency Code               0\n",
       "Agency Name               0\n",
       "Agency Type               0\n",
       "City                      0\n",
       "State                     0\n",
       "Year                      0\n",
       "Month                     0\n",
       "Incident                  0\n",
       "Crime Type                0\n",
       "Crime Solved              0\n",
       "Victim Sex                0\n",
       "Victim Age                0\n",
       "Victim Race               0\n",
       "Perpetrator Age           0\n",
       "Relationship         250000\n",
       "Weapon                    0\n",
       "Victim Count              0\n",
       "Perpetrator Count         0\n",
       "Record Source             0\n",
       "dtype: int64"
      ]
     },
     "execution_count": 16,
     "metadata": {},
     "output_type": "execute_result"
    }
   ],
   "source": [
    "data.isna().sum()"
   ]
  },
  {
   "cell_type": "code",
   "execution_count": 17,
   "id": "fbaf7c42",
   "metadata": {},
   "outputs": [],
   "source": [
    "data.fillna('Unknown',inplace=True)"
   ]
  },
  {
   "cell_type": "code",
   "execution_count": 18,
   "id": "95660622",
   "metadata": {
    "scrolled": true
   },
   "outputs": [
    {
     "data": {
      "text/plain": [
       "Record ID            0\n",
       "Agency Code          0\n",
       "Agency Name          0\n",
       "Agency Type          0\n",
       "City                 0\n",
       "State                0\n",
       "Year                 0\n",
       "Month                0\n",
       "Incident             0\n",
       "Crime Type           0\n",
       "Crime Solved         0\n",
       "Victim Sex           0\n",
       "Victim Age           0\n",
       "Victim Race          0\n",
       "Perpetrator Age      0\n",
       "Relationship         0\n",
       "Weapon               0\n",
       "Victim Count         0\n",
       "Perpetrator Count    0\n",
       "Record Source        0\n",
       "dtype: int64"
      ]
     },
     "execution_count": 18,
     "metadata": {},
     "output_type": "execute_result"
    }
   ],
   "source": [
    "data.isna().sum()"
   ]
  },
  {
   "cell_type": "code",
   "execution_count": 19,
   "id": "f105d3ed",
   "metadata": {},
   "outputs": [
    {
     "data": {
      "text/plain": [
       "599679"
      ]
     },
     "execution_count": 19,
     "metadata": {},
     "output_type": "execute_result"
    }
   ],
   "source": [
    "len(data)"
   ]
  },
  {
   "cell_type": "code",
   "execution_count": 20,
   "id": "00922b8c",
   "metadata": {},
   "outputs": [],
   "source": [
    "data.to_csv('Crimedata_cleaned1.csv', index=False)"
   ]
  }
 ],
 "metadata": {
  "kernelspec": {
   "display_name": "Python 3 (ipykernel)",
   "language": "python",
   "name": "python3"
  },
  "language_info": {
   "codemirror_mode": {
    "name": "ipython",
    "version": 3
   },
   "file_extension": ".py",
   "mimetype": "text/x-python",
   "name": "python",
   "nbconvert_exporter": "python",
   "pygments_lexer": "ipython3",
   "version": "3.11.4"
  }
 },
 "nbformat": 4,
 "nbformat_minor": 5
}
